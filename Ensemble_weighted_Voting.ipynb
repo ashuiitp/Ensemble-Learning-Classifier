{
  "nbformat": 4,
  "nbformat_minor": 0,
  "metadata": {
    "kernelspec": {
      "display_name": "Python 3",
      "language": "python",
      "name": "python3"
    },
    "language_info": {
      "codemirror_mode": {
        "name": "ipython",
        "version": 3
      },
      "file_extension": ".py",
      "mimetype": "text/x-python",
      "name": "python",
      "nbconvert_exporter": "python",
      "pygments_lexer": "ipython3",
      "version": "3.8.3"
    },
    "colab": {
      "name": "Ensemble with weighted Voting.ipynb",
      "provenance": []
    }
  },
  "cells": [
    {
      "cell_type": "markdown",
      "metadata": {
        "id": "bakDEhI-Dfwo"
      },
      "source": [
        "# ENSEMBLE WITH WEIGHTED VOTING"
      ]
    },
    {
      "cell_type": "code",
      "metadata": {
        "id": "zmPgzDvJDMmx"
      },
      "source": [
        "import numpy as np\n",
        "import pandas as pd\n",
        "from sklearn.tree import DecisionTreeClassifier\n",
        "from sklearn.linear_model import LogisticRegression\n",
        "from sklearn.naive_bayes import GaussianNB \n",
        "from sklearn import metrics"
      ],
      "execution_count": null,
      "outputs": []
    },
    {
      "cell_type": "markdown",
      "metadata": {
        "id": "vKJBbdnpDMnA"
      },
      "source": [
        "#### Database read  "
      ]
    },
    {
      "cell_type": "code",
      "metadata": {
        "id": "qY49QsajDMnA",
        "outputId": "545f20d4-0530-4ad7-eedd-4a9b8014a8cc"
      },
      "source": [
        "df = pd.read_csv('ReplicatedAcousticFeatures-ParkinsonDatabase.csv')\n",
        "df.shape"
      ],
      "execution_count": null,
      "outputs": [
        {
          "output_type": "execute_result",
          "data": {
            "text/plain": [
              "(240, 48)"
            ]
          },
          "metadata": {
            "tags": []
          },
          "execution_count": 2
        }
      ]
    },
    {
      "cell_type": "code",
      "metadata": {
        "id": "GVjAvD82DMnB",
        "outputId": "f65b59a2-8118-4113-94fb-bc325f247d09"
      },
      "source": [
        "df.head()"
      ],
      "execution_count": null,
      "outputs": [
        {
          "output_type": "execute_result",
          "data": {
            "text/html": [
              "<div>\n",
              "<style scoped>\n",
              "    .dataframe tbody tr th:only-of-type {\n",
              "        vertical-align: middle;\n",
              "    }\n",
              "\n",
              "    .dataframe tbody tr th {\n",
              "        vertical-align: top;\n",
              "    }\n",
              "\n",
              "    .dataframe thead th {\n",
              "        text-align: right;\n",
              "    }\n",
              "</style>\n",
              "<table border=\"1\" class=\"dataframe\">\n",
              "  <thead>\n",
              "    <tr style=\"text-align: right;\">\n",
              "      <th></th>\n",
              "      <th>ID</th>\n",
              "      <th>Recording</th>\n",
              "      <th>Status</th>\n",
              "      <th>Gender</th>\n",
              "      <th>Jitter_rel</th>\n",
              "      <th>Jitter_abs</th>\n",
              "      <th>Jitter_RAP</th>\n",
              "      <th>Jitter_PPQ</th>\n",
              "      <th>Shim_loc</th>\n",
              "      <th>Shim_dB</th>\n",
              "      <th>...</th>\n",
              "      <th>Delta3</th>\n",
              "      <th>Delta4</th>\n",
              "      <th>Delta5</th>\n",
              "      <th>Delta6</th>\n",
              "      <th>Delta7</th>\n",
              "      <th>Delta8</th>\n",
              "      <th>Delta9</th>\n",
              "      <th>Delta10</th>\n",
              "      <th>Delta11</th>\n",
              "      <th>Delta12</th>\n",
              "    </tr>\n",
              "  </thead>\n",
              "  <tbody>\n",
              "    <tr>\n",
              "      <th>0</th>\n",
              "      <td>CONT-01</td>\n",
              "      <td>1</td>\n",
              "      <td>0</td>\n",
              "      <td>1</td>\n",
              "      <td>0.25546</td>\n",
              "      <td>0.000015</td>\n",
              "      <td>0.001467</td>\n",
              "      <td>0.001673</td>\n",
              "      <td>0.030256</td>\n",
              "      <td>0.26313</td>\n",
              "      <td>...</td>\n",
              "      <td>1.407701</td>\n",
              "      <td>1.417218</td>\n",
              "      <td>1.380352</td>\n",
              "      <td>1.420670</td>\n",
              "      <td>1.451240</td>\n",
              "      <td>1.440295</td>\n",
              "      <td>1.403678</td>\n",
              "      <td>1.405495</td>\n",
              "      <td>1.416705</td>\n",
              "      <td>1.354610</td>\n",
              "    </tr>\n",
              "    <tr>\n",
              "      <th>1</th>\n",
              "      <td>CONT-01</td>\n",
              "      <td>2</td>\n",
              "      <td>0</td>\n",
              "      <td>1</td>\n",
              "      <td>0.36964</td>\n",
              "      <td>0.000022</td>\n",
              "      <td>0.001932</td>\n",
              "      <td>0.002245</td>\n",
              "      <td>0.023146</td>\n",
              "      <td>0.20217</td>\n",
              "      <td>...</td>\n",
              "      <td>1.331232</td>\n",
              "      <td>1.227338</td>\n",
              "      <td>1.213377</td>\n",
              "      <td>1.352739</td>\n",
              "      <td>1.354242</td>\n",
              "      <td>1.365692</td>\n",
              "      <td>1.322870</td>\n",
              "      <td>1.314549</td>\n",
              "      <td>1.318999</td>\n",
              "      <td>1.323508</td>\n",
              "    </tr>\n",
              "    <tr>\n",
              "      <th>2</th>\n",
              "      <td>CONT-01</td>\n",
              "      <td>3</td>\n",
              "      <td>0</td>\n",
              "      <td>1</td>\n",
              "      <td>0.23514</td>\n",
              "      <td>0.000013</td>\n",
              "      <td>0.001353</td>\n",
              "      <td>0.001546</td>\n",
              "      <td>0.019338</td>\n",
              "      <td>0.16710</td>\n",
              "      <td>...</td>\n",
              "      <td>1.412304</td>\n",
              "      <td>1.324674</td>\n",
              "      <td>1.276088</td>\n",
              "      <td>1.429634</td>\n",
              "      <td>1.455996</td>\n",
              "      <td>1.368882</td>\n",
              "      <td>1.438053</td>\n",
              "      <td>1.388910</td>\n",
              "      <td>1.305469</td>\n",
              "      <td>1.305402</td>\n",
              "    </tr>\n",
              "    <tr>\n",
              "      <th>3</th>\n",
              "      <td>CONT-02</td>\n",
              "      <td>1</td>\n",
              "      <td>0</td>\n",
              "      <td>0</td>\n",
              "      <td>0.29320</td>\n",
              "      <td>0.000017</td>\n",
              "      <td>0.001105</td>\n",
              "      <td>0.001444</td>\n",
              "      <td>0.024716</td>\n",
              "      <td>0.20892</td>\n",
              "      <td>...</td>\n",
              "      <td>1.501200</td>\n",
              "      <td>1.534170</td>\n",
              "      <td>1.323993</td>\n",
              "      <td>1.496442</td>\n",
              "      <td>1.472926</td>\n",
              "      <td>1.643177</td>\n",
              "      <td>1.551286</td>\n",
              "      <td>1.638346</td>\n",
              "      <td>1.604008</td>\n",
              "      <td>1.621456</td>\n",
              "    </tr>\n",
              "    <tr>\n",
              "      <th>4</th>\n",
              "      <td>CONT-02</td>\n",
              "      <td>2</td>\n",
              "      <td>0</td>\n",
              "      <td>0</td>\n",
              "      <td>0.23075</td>\n",
              "      <td>0.000015</td>\n",
              "      <td>0.001073</td>\n",
              "      <td>0.001404</td>\n",
              "      <td>0.013119</td>\n",
              "      <td>0.11607</td>\n",
              "      <td>...</td>\n",
              "      <td>1.508468</td>\n",
              "      <td>1.334511</td>\n",
              "      <td>1.610694</td>\n",
              "      <td>1.685021</td>\n",
              "      <td>1.417614</td>\n",
              "      <td>1.574895</td>\n",
              "      <td>1.640088</td>\n",
              "      <td>1.533666</td>\n",
              "      <td>1.297536</td>\n",
              "      <td>1.382023</td>\n",
              "    </tr>\n",
              "  </tbody>\n",
              "</table>\n",
              "<p>5 rows × 48 columns</p>\n",
              "</div>"
            ],
            "text/plain": [
              "        ID  Recording  Status  Gender  Jitter_rel  Jitter_abs  Jitter_RAP  \\\n",
              "0  CONT-01          1       0       1     0.25546    0.000015    0.001467   \n",
              "1  CONT-01          2       0       1     0.36964    0.000022    0.001932   \n",
              "2  CONT-01          3       0       1     0.23514    0.000013    0.001353   \n",
              "3  CONT-02          1       0       0     0.29320    0.000017    0.001105   \n",
              "4  CONT-02          2       0       0     0.23075    0.000015    0.001073   \n",
              "\n",
              "   Jitter_PPQ  Shim_loc  Shim_dB  ...    Delta3    Delta4    Delta5    Delta6  \\\n",
              "0    0.001673  0.030256  0.26313  ...  1.407701  1.417218  1.380352  1.420670   \n",
              "1    0.002245  0.023146  0.20217  ...  1.331232  1.227338  1.213377  1.352739   \n",
              "2    0.001546  0.019338  0.16710  ...  1.412304  1.324674  1.276088  1.429634   \n",
              "3    0.001444  0.024716  0.20892  ...  1.501200  1.534170  1.323993  1.496442   \n",
              "4    0.001404  0.013119  0.11607  ...  1.508468  1.334511  1.610694  1.685021   \n",
              "\n",
              "     Delta7    Delta8    Delta9   Delta10   Delta11   Delta12  \n",
              "0  1.451240  1.440295  1.403678  1.405495  1.416705  1.354610  \n",
              "1  1.354242  1.365692  1.322870  1.314549  1.318999  1.323508  \n",
              "2  1.455996  1.368882  1.438053  1.388910  1.305469  1.305402  \n",
              "3  1.472926  1.643177  1.551286  1.638346  1.604008  1.621456  \n",
              "4  1.417614  1.574895  1.640088  1.533666  1.297536  1.382023  \n",
              "\n",
              "[5 rows x 48 columns]"
            ]
          },
          "metadata": {
            "tags": []
          },
          "execution_count": 3
        }
      ]
    },
    {
      "cell_type": "markdown",
      "metadata": {
        "id": "9cHIFK61DMnC"
      },
      "source": [
        "#### Drop data "
      ]
    },
    {
      "cell_type": "code",
      "metadata": {
        "scrolled": true,
        "id": "xKHE32r-DMnC",
        "outputId": "151c69cb-5581-429e-e9e8-877c9ee98c8d"
      },
      "source": [
        "df.drop(['ID'],axis = 1, inplace = True)\n",
        "label = df['Status'] \n",
        "df.drop(['Status'], axis = 1, inplace = True)\n",
        "df = df.values\n",
        "samples,features = df.shape\n",
        "print(samples,features)"
      ],
      "execution_count": null,
      "outputs": [
        {
          "output_type": "stream",
          "text": [
            "240 46\n"
          ],
          "name": "stdout"
        }
      ]
    },
    {
      "cell_type": "code",
      "metadata": {
        "id": "SSRwE_ZyDMnC"
      },
      "source": [
        "data = df.astype(np.float)"
      ],
      "execution_count": null,
      "outputs": []
    },
    {
      "cell_type": "markdown",
      "metadata": {
        "id": "dCtHPuPGDMnC"
      },
      "source": [
        "#### Import train_test_split function and Split dataset into training set and test set"
      ]
    },
    {
      "cell_type": "code",
      "metadata": {
        "id": "IYlWAiALDMnD"
      },
      "source": [
        "from sklearn.model_selection import train_test_split\n",
        "X_train, X_test, y_train, y_test = train_test_split(data, label, test_size=0.2,random_state=100)"
      ],
      "execution_count": null,
      "outputs": []
    },
    {
      "cell_type": "markdown",
      "metadata": {
        "id": "jISgNpkfDMnD"
      },
      "source": [
        "#### Base models "
      ]
    },
    {
      "cell_type": "code",
      "metadata": {
        "id": "Prpl9JSTDMnD",
        "outputId": "96e979c4-70d9-43b4-dee4-32f5e4085a6b"
      },
      "source": [
        "model1 = DecisionTreeClassifier(random_state=1)\n",
        "model2 = GaussianNB()\n",
        "model3= LogisticRegression(max_iter=500)\n",
        "\n",
        "model1.fit(X_train,y_train)\n",
        "model2.fit(X_train,y_train)\n",
        "model3.fit(X_train,y_train)\n",
        "\n",
        "pred1=model1.predict(X_test)\n",
        "pred2=model2.predict(X_test)\n",
        "pred3=model3.predict(X_test)\n"
      ],
      "execution_count": null,
      "outputs": [
        {
          "output_type": "stream",
          "text": [
            "C:\\Users\\HP\\anaconda3\\lib\\site-packages\\sklearn\\linear_model\\_logistic.py:762: ConvergenceWarning: lbfgs failed to converge (status=1):\n",
            "STOP: TOTAL NO. of ITERATIONS REACHED LIMIT.\n",
            "\n",
            "Increase the number of iterations (max_iter) or scale the data as shown in:\n",
            "    https://scikit-learn.org/stable/modules/preprocessing.html\n",
            "Please also refer to the documentation for alternative solver options:\n",
            "    https://scikit-learn.org/stable/modules/linear_model.html#logistic-regression\n",
            "  n_iter_i = _check_optimize_result(\n"
          ],
          "name": "stderr"
        }
      ]
    },
    {
      "cell_type": "code",
      "metadata": {
        "id": "C6MEDlUCDMnE",
        "outputId": "4d73e9b7-5d7d-4465-d39a-8fa9f31e9cc8"
      },
      "source": [
        "print(model1)\n",
        "print(model2)\n",
        "print(model3)"
      ],
      "execution_count": null,
      "outputs": [
        {
          "output_type": "stream",
          "text": [
            "DecisionTreeClassifier(random_state=1)\n",
            "GaussianNB()\n",
            "LogisticRegression(max_iter=500)\n"
          ],
          "name": "stdout"
        }
      ]
    },
    {
      "cell_type": "code",
      "metadata": {
        "id": "jlWorpTADMnE",
        "outputId": "e5fbbc89-33f6-44b5-c11c-d1775d42bfb6"
      },
      "source": [
        "print(\"decision tree classifier prediction:\\n\",pred1)\n",
        "print(\"naive bayes classifier prediction:\\n\",pred2)\n",
        "print(\"logistic regression classifier prediction:\\n\",pred3)"
      ],
      "execution_count": null,
      "outputs": [
        {
          "output_type": "stream",
          "text": [
            "decision tree classifier prediction:\n",
            " [0 1 1 1 1 0 0 1 0 0 1 0 0 0 1 1 0 1 1 0 1 0 1 1 1 1 1 0 0 0 1 1 1 1 1 1 1\n",
            " 1 0 0 0 1 1 1 0 1 0 0]\n",
            "naive bayes classifier prediction:\n",
            " [0 1 1 1 1 0 1 1 0 1 1 0 0 0 1 1 0 1 1 0 0 0 1 1 1 1 1 0 0 0 1 1 1 1 1 1 1\n",
            " 1 0 0 0 1 1 1 0 1 0 0]\n",
            "logistic regression classifier prediction:\n",
            " [0 1 1 1 1 0 0 1 0 1 1 0 0 0 1 1 1 1 1 0 0 0 1 1 1 1 1 0 0 0 1 1 0 1 0 1 1\n",
            " 1 0 0 0 1 1 1 0 0 0 0]\n"
          ],
          "name": "stdout"
        }
      ]
    },
    {
      "cell_type": "markdown",
      "metadata": {
        "id": "aLkve9sCDMnE"
      },
      "source": [
        "#### Accuracy of each base models"
      ]
    },
    {
      "cell_type": "code",
      "metadata": {
        "id": "dX4ZifOnDMnE",
        "outputId": "be09a0df-549e-411b-8233-5f49916805aa"
      },
      "source": [
        "acc1 = metrics.accuracy_score(y_test, pred1)\n",
        "acc2 = metrics.accuracy_score(y_test, pred2)\n",
        "acc3 = metrics.accuracy_score(y_test, pred3)\n",
        "print(\"Accuracy of decision tree classifier:\",acc1)\n",
        "print(\"Accuracy of naive bayes classifier:\",acc2)\n",
        "print(\"Accuracy of logistic regression classifier:\",acc3)\n"
      ],
      "execution_count": null,
      "outputs": [
        {
          "output_type": "stream",
          "text": [
            "Accuracy of decision tree classifier: 0.7708333333333334\n",
            "Accuracy of naive bayes classifier: 0.7916666666666666\n",
            "Accuracy of logistic regression classifier: 0.8125\n"
          ],
          "name": "stdout"
        }
      ]
    },
    {
      "cell_type": "markdown",
      "metadata": {
        "id": "ghgLQppwDMnF"
      },
      "source": [
        "#### Final prediction from weighted voting (accuracy as weight)"
      ]
    },
    {
      "cell_type": "code",
      "metadata": {
        "id": "pERNUhXpDMnF"
      },
      "source": [
        "w = acc1 + acc2 + acc3\n",
        "w1=acc1/w\n",
        "w2=acc2/w\n",
        "w3=acc3/w\n"
      ],
      "execution_count": null,
      "outputs": []
    },
    {
      "cell_type": "code",
      "metadata": {
        "id": "mOYFZox-DMnF"
      },
      "source": [
        "final_pred_weighted_voting = np.array([])\n",
        "for i in range(0,len(X_test)):\n",
        "    x=0\n",
        "    y=0\n",
        "    if pred1[i]==1:\n",
        "        x+=w1\n",
        "    else:\n",
        "        y+=w1\n",
        "    if pred2[i]==1:\n",
        "        x+=w2\n",
        "    else:\n",
        "        y+=w2\n",
        "    if pred3[i]==1:\n",
        "        x+=w3\n",
        "    else:\n",
        "        y+=w3\n",
        "    if x>y:\n",
        "        final_pred_weighted_voting = np.append(final_pred_weighted_voting,1)\n",
        "    else:\n",
        "        final_pred_weighted_voting = np.append(final_pred_weighted_voting,0)"
      ],
      "execution_count": null,
      "outputs": []
    },
    {
      "cell_type": "code",
      "metadata": {
        "id": "pGJcr9IgDMnG",
        "outputId": "b2ad7f9b-1d5a-4ddd-9bf7-bf3069ec7f28"
      },
      "source": [
        "print(\"final prediction using weighted voting:\\n\",final_pred_weighted_voting)"
      ],
      "execution_count": null,
      "outputs": [
        {
          "output_type": "stream",
          "text": [
            "final prediction using weighted voting:\n",
            " [0. 1. 1. 1. 1. 0. 0. 1. 0. 1. 1. 0. 0. 0. 1. 1. 0. 1. 1. 0. 0. 0. 1. 1.\n",
            " 1. 1. 1. 0. 0. 0. 1. 1. 1. 1. 1. 1. 1. 1. 0. 0. 0. 1. 1. 1. 0. 1. 0. 0.]\n"
          ],
          "name": "stdout"
        }
      ]
    },
    {
      "cell_type": "markdown",
      "metadata": {
        "id": "RzKWWuQoDMnI"
      },
      "source": [
        "#### Accuracy of final prediction"
      ]
    },
    {
      "cell_type": "code",
      "metadata": {
        "id": "bLkDty7CDMnI",
        "outputId": "3b294684-645a-4122-81f2-29695a8d6c68"
      },
      "source": [
        "print(\"Accuracy of weighted voting:\",metrics.accuracy_score(y_test, final_pred_weighted_voting))"
      ],
      "execution_count": null,
      "outputs": [
        {
          "output_type": "stream",
          "text": [
            "Accuracy of weighted voting: 0.8125\n"
          ],
          "name": "stdout"
        }
      ]
    },
    {
      "cell_type": "markdown",
      "metadata": {
        "id": "cqg6ox7nDMnI"
      },
      "source": [
        "# RANKING OF ALL MODELS BASED ON THEIR ACCURACY"
      ]
    },
    {
      "cell_type": "code",
      "metadata": {
        "id": "Ie9bsV6NDMnJ",
        "outputId": "8ccf4454-6f00-46d9-8c1c-903e17ae619d"
      },
      "source": [
        "print(\"RANKING OF ALL MODELS BASED ON THEIR ACCURACY\")\n",
        "print(\"1.Weighted voting Ensemble & logistic regression classifier:\",0.8125)\n",
        "print(\"2.Naive bayes classifier \",0.7916666666666666 )\n",
        "print(\"3.Accuracy of decision tree classifier\",0.7708333333333334)"
      ],
      "execution_count": null,
      "outputs": [
        {
          "output_type": "stream",
          "text": [
            "RANKING OF ALL MODELS BASED ON THEIR ACCURACY\n",
            "1.Weighted voting Ensemble & logistic regression classifier: 0.8125\n",
            "2.naive bayes classifier  0.7916666666666666\n",
            "3.Accuracy of decision tree classifier 0.7708333333333334\n"
          ],
          "name": "stdout"
        }
      ]
    }
  ]
}